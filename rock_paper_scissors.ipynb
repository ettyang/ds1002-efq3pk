{
  "nbformat": 4,
  "nbformat_minor": 0,
  "metadata": {
    "colab": {
      "provenance": [],
      "authorship_tag": "ABX9TyOqN99KRwAsMWX/YhtMxZus",
      "include_colab_link": true
    },
    "kernelspec": {
      "name": "python3",
      "display_name": "Python 3"
    },
    "language_info": {
      "name": "python"
    }
  },
  "cells": [
    {
      "cell_type": "markdown",
      "metadata": {
        "id": "view-in-github",
        "colab_type": "text"
      },
      "source": [
        "<a href=\"https://colab.research.google.com/github/ettyang/ds1002-efq3pk/blob/main/rock_paper_scissors.ipynb\" target=\"_parent\"><img src=\"https://colab.research.google.com/assets/colab-badge.svg\" alt=\"Open In Colab\"/></a>"
      ]
    },
    {
      "cell_type": "code",
      "execution_count": 7,
      "metadata": {
        "colab": {
          "base_uri": "https://localhost:8080/"
        },
        "id": "4d5Iv_-JeDM4",
        "outputId": "48a4386e-540f-4803-a95d-713fbf802b8d"
      },
      "outputs": [
        {
          "output_type": "stream",
          "name": "stdout",
          "text": [
            "rock, paper, scissors?rock\n",
            "computer guessed paper. computer wins\n"
          ]
        }
      ],
      "source": [
        "from random import randint\n",
        "\n",
        "t = [\"rock\", \"paper\", \"scissors\"]\n",
        "\n",
        "computer = t[randint(0,2)] #randomly select an index from 0-2\n",
        "\n",
        "player = input(\"rock, paper, scissors?\")\n",
        "\n",
        "if player == computer:\n",
        "  print(\"we have a tie\")\n",
        "elif player == \"rock\":\n",
        "  if computer == \"scissors\":\n",
        "    print(f\"computer guessed {computer}. you win\")\n",
        "  else: #if computer guessed paper\n",
        "    print(f\"computer guessed {computer}. computer wins\")\n",
        "elif player == \"paper\":\n",
        "  if computer == \"rock\":\n",
        "    print(f\"computer guessed {computer}. you win\")\n",
        "  else: #if computer guessed paper\n",
        "    print(f\"computer guessed {computer}. computer wins\")\n",
        "elif player == \"scissor\":\n",
        "  if computer == \"paper\":\n",
        "    print(f\"computer guessed {computer}. you win\")\n",
        "  else: #if computer guessed paper\n",
        "    print(f\"computer guessed {computer}. computer wins\")\n",
        "else:\n",
        "  print(\"try again, something went wrong\") #if player didn't write any of the 3 options"
      ]
    },
    {
      "cell_type": "code",
      "source": [],
      "metadata": {
        "id": "hkph8Civetbv"
      },
      "execution_count": null,
      "outputs": []
    }
  ]
}