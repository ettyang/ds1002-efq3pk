{
  "nbformat": 4,
  "nbformat_minor": 0,
  "metadata": {
    "colab": {
      "provenance": [],
      "include_colab_link": true
    },
    "kernelspec": {
      "name": "python3",
      "display_name": "Python 3"
    },
    "language_info": {
      "name": "python"
    }
  },
  "cells": [
    {
      "cell_type": "markdown",
      "metadata": {
        "id": "view-in-github",
        "colab_type": "text"
      },
      "source": [
        "<a href=\"https://colab.research.google.com/github/ettyang/ds1002-efq3pk/blob/main/homework/week-8.ipynb\" target=\"_parent\"><img src=\"https://colab.research.google.com/assets/colab-badge.svg\" alt=\"Open In Colab\"/></a>"
      ]
    },
    {
      "cell_type": "markdown",
      "source": [
        "## While-Loops\n",
        "\n",
        "Perform the following steps in code:\n",
        "1. Define a variable and populate it with `0`.\n",
        "2. Create a while statement that evaluates whether that variable is less than or equal to `20`.\n",
        "3. Within the while loop evaluate if the variable value is even or odd.\n",
        "4. Within the while loop, if the variable value is even, print it. If not, do not print it.\n",
        "5. Within the while loop, finally add `1` to the variable before it repeats."
      ],
      "metadata": {
        "id": "But1V5T5qWJG"
      }
    },
    {
      "cell_type": "code",
      "source": [
        "# code here\n",
        "val = 0\n",
        "\n",
        "while val < 20:\n",
        "  if val % 2 == 0:\n",
        "    print ('even')\n",
        "  val += 1\n",
        "  print (val)"
      ],
      "metadata": {
        "id": "GyQTkbqUq6SQ",
        "outputId": "08cd855c-bc7a-4c76-a791-57344a7c986b",
        "colab": {
          "base_uri": "https://localhost:8080/"
        }
      },
      "execution_count": 3,
      "outputs": [
        {
          "output_type": "stream",
          "name": "stdout",
          "text": [
            "even\n",
            "1\n",
            "2\n",
            "even\n",
            "3\n",
            "4\n",
            "even\n",
            "5\n",
            "6\n",
            "even\n",
            "7\n",
            "8\n",
            "even\n",
            "9\n",
            "10\n",
            "even\n",
            "11\n",
            "12\n",
            "even\n",
            "13\n",
            "14\n",
            "even\n",
            "15\n",
            "16\n",
            "even\n",
            "17\n",
            "18\n",
            "even\n",
            "19\n",
            "20\n"
          ]
        }
      ]
    },
    {
      "cell_type": "markdown",
      "source": [
        "## For-Loops with Lists"
      ],
      "metadata": {
        "id": "ghRg1MRwoXvD"
      }
    },
    {
      "cell_type": "code",
      "source": [
        "# Use this list in the exercises below\n",
        "\n",
        "mylist = [9, 15, 23, 4, 92, 47, 33, 17, -4, 18, 38, -242]"
      ],
      "metadata": {
        "id": "G0PaWRBuoZdQ"
      },
      "execution_count": 4,
      "outputs": []
    },
    {
      "cell_type": "code",
      "source": [
        "# Write a command to print out all the values of this list\n",
        "# EXCEPT for any negative values. Omit them from the printing.\n",
        "\n",
        "for val in mylist:\n",
        "  if val >=  0:\n",
        "    print(val)"
      ],
      "metadata": {
        "id": "hzoe9vw3phWs",
        "outputId": "13522af2-be1e-46f1-9cc0-d394c26379d5",
        "colab": {
          "base_uri": "https://localhost:8080/"
        }
      },
      "execution_count": 5,
      "outputs": [
        {
          "output_type": "stream",
          "name": "stdout",
          "text": [
            "9\n",
            "15\n",
            "23\n",
            "4\n",
            "92\n",
            "47\n",
            "33\n",
            "17\n",
            "18\n",
            "38\n"
          ]
        }
      ]
    },
    {
      "cell_type": "code",
      "source": [
        "# Repeat the command from above, but this time get\n",
        "# the absolute value of any negative values in the list\n",
        "# and print those with the other items.\n",
        "\n",
        "for val in mylist:\n",
        "  if val <=  0:\n",
        "    val = val * (-1)\n",
        "  print(val)"
      ],
      "metadata": {
        "id": "IE1-XLNrpnvy",
        "outputId": "26f1cbb2-97fc-48e7-cfef-b8935043ccdb",
        "colab": {
          "base_uri": "https://localhost:8080/"
        }
      },
      "execution_count": 14,
      "outputs": [
        {
          "output_type": "stream",
          "name": "stdout",
          "text": [
            "9\n",
            "15\n",
            "23\n",
            "4\n",
            "92\n",
            "47\n",
            "33\n",
            "17\n",
            "4\n",
            "18\n",
            "38\n",
            "242\n"
          ]
        }
      ]
    },
    {
      "cell_type": "code",
      "source": [
        "# Similar to above, write a command to print out items in\n",
        "# the list but omit any values greater than 20 and less than 40.\n",
        "for val in mylist:\n",
        "  if val > 20 and val < 40:\n",
        "    continue\n",
        "  print(val)"
      ],
      "metadata": {
        "id": "rC38pZowp4LX",
        "outputId": "457a7c38-fad7-4a0d-f4ec-a4cfe8e93539",
        "colab": {
          "base_uri": "https://localhost:8080/"
        }
      },
      "execution_count": 16,
      "outputs": [
        {
          "output_type": "stream",
          "name": "stdout",
          "text": [
            "9\n",
            "15\n",
            "4\n",
            "92\n",
            "47\n",
            "17\n",
            "-4\n",
            "18\n",
            "-242\n"
          ]
        }
      ]
    },
    {
      "cell_type": "markdown",
      "source": [
        "## For-Loops with Dictionaries"
      ],
      "metadata": {
        "id": "BD1Wg4oSSEdz"
      }
    },
    {
      "cell_type": "code",
      "source": [
        "capitals = {'United States':'Washington DC',\n",
        "          'Italy':'Rome',\n",
        "          'England':'London',\n",
        "          'Thailand':'Bangkok',\n",
        "          'Brazil':'Brasilia'}"
      ],
      "metadata": {
        "id": "9DpHR_WzSGA8"
      },
      "execution_count": 17,
      "outputs": []
    },
    {
      "cell_type": "code",
      "source": [
        "# Write a command to print out all the keys of this dict\n",
        "for country in capitals:\n",
        "  print (country)"
      ],
      "metadata": {
        "id": "Iy_i6RE3S1ta",
        "outputId": "d0af1d4d-9f36-468d-8776-ae6271f18c44",
        "colab": {
          "base_uri": "https://localhost:8080/"
        }
      },
      "execution_count": 18,
      "outputs": [
        {
          "output_type": "stream",
          "name": "stdout",
          "text": [
            "United States\n",
            "Italy\n",
            "England\n",
            "Thailand\n",
            "Brazil\n"
          ]
        }
      ]
    },
    {
      "cell_type": "code",
      "source": [
        "# Write a command to print out all the values of this dict\n",
        "for country in capitals:\n",
        "  print (capitals[country])"
      ],
      "metadata": {
        "id": "eYNBRQAsS95v",
        "outputId": "942387a2-d448-47b4-f971-bbf392541686",
        "colab": {
          "base_uri": "https://localhost:8080/"
        }
      },
      "execution_count": 19,
      "outputs": [
        {
          "output_type": "stream",
          "name": "stdout",
          "text": [
            "Washington DC\n",
            "Rome\n",
            "London\n",
            "Bangkok\n",
            "Brasilia\n"
          ]
        }
      ]
    },
    {
      "cell_type": "code",
      "source": [
        "# Write a command to print all the keys and values for this dict\n",
        "for key, value in capitals.items():\n",
        "  print (key, \" \", value)\n"
      ],
      "metadata": {
        "id": "b1KYFdDxSH7X",
        "outputId": "4862b4f9-cbcb-4720-b407-1fdfd9f3e0c4",
        "colab": {
          "base_uri": "https://localhost:8080/"
        }
      },
      "execution_count": 20,
      "outputs": [
        {
          "output_type": "stream",
          "name": "stdout",
          "text": [
            "United States   Washington DC\n",
            "Italy   Rome\n",
            "England   London\n",
            "Thailand   Bangkok\n",
            "Brazil   Brasilia\n"
          ]
        }
      ]
    },
    {
      "cell_type": "code",
      "source": [
        "# Write a command to print only the first three values and NOTHING more.\n",
        "i = 0\n",
        "\n",
        "while i < 3:\n",
        "  for country in capitals:\n",
        "    print (capitals[country])\n",
        "    i += 1\n",
        "    if i == 3:\n",
        "      break\n"
      ],
      "metadata": {
        "id": "pun10Fq2oonQ",
        "outputId": "30d092e2-a2c6-4b83-9709-b6a34be38b32",
        "colab": {
          "base_uri": "https://localhost:8080/"
        }
      },
      "execution_count": 42,
      "outputs": [
        {
          "output_type": "stream",
          "name": "stdout",
          "text": [
            "Washington DC\n",
            "Rome\n",
            "London\n"
          ]
        }
      ]
    },
    {
      "cell_type": "code",
      "source": [],
      "metadata": {
        "id": "h68iDn3fTXoB"
      },
      "execution_count": null,
      "outputs": []
    }
  ]
}