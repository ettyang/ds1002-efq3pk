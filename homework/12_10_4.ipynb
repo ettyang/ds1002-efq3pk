{
  "nbformat": 4,
  "nbformat_minor": 0,
  "metadata": {
    "colab": {
      "provenance": [],
      "authorship_tag": "ABX9TyM5RdUbWoBT2Y1g7QxxQzdt",
      "include_colab_link": true
    },
    "kernelspec": {
      "name": "python3",
      "display_name": "Python 3"
    },
    "language_info": {
      "name": "python"
    }
  },
  "cells": [
    {
      "cell_type": "markdown",
      "metadata": {
        "id": "view-in-github",
        "colab_type": "text"
      },
      "source": [
        "<a href=\"https://colab.research.google.com/github/ettyang/ds1002-efq3pk/blob/main/12_10_4.ipynb\" target=\"_parent\"><img src=\"https://colab.research.google.com/assets/colab-badge.svg\" alt=\"Open In Colab\"/></a>"
      ]
    },
    {
      "cell_type": "code",
      "execution_count": 4,
      "metadata": {
        "id": "N9zBEGpYD7Ge"
      },
      "outputs": [],
      "source": [
        "def multiply_these(x,y):\n",
        "  product = x * y\n",
        "  print(product)\n"
      ]
    },
    {
      "cell_type": "code",
      "source": [
        "multiply_these(5,6)"
      ],
      "metadata": {
        "colab": {
          "base_uri": "https://localhost:8080/"
        },
        "id": "RDbEwSeQENUh",
        "outputId": "154e52b3-054d-44c3-f594-737f988a0cad"
      },
      "execution_count": 5,
      "outputs": [
        {
          "output_type": "stream",
          "name": "stdout",
          "text": [
            "30\n"
          ]
        }
      ]
    },
    {
      "cell_type": "code",
      "source": [
        "var1 = 5\n",
        "var2 = 6\n",
        "multiply_these(var1,var2)"
      ],
      "metadata": {
        "colab": {
          "base_uri": "https://localhost:8080/"
        },
        "id": "c6lsw6dcEdLB",
        "outputId": "8539e300-b812-4557-e26c-fc34e2f700dc"
      },
      "execution_count": 6,
      "outputs": [
        {
          "output_type": "stream",
          "name": "stdout",
          "text": [
            "30\n"
          ]
        }
      ]
    },
    {
      "cell_type": "code",
      "source": [
        "var1, var2 = 5,6\n",
        "multiply_these(var1,var2)"
      ],
      "metadata": {
        "colab": {
          "base_uri": "https://localhost:8080/"
        },
        "id": "6XDTxOcxEixy",
        "outputId": "19643816-c643-4890-ab6a-72510405050e"
      },
      "execution_count": 7,
      "outputs": [
        {
          "output_type": "stream",
          "name": "stdout",
          "text": [
            "30\n"
          ]
        }
      ]
    },
    {
      "cell_type": "code",
      "source": [
        "multi_these = lambda x,y: x * y"
      ],
      "metadata": {
        "id": "aVgSXpWWEm3u"
      },
      "execution_count": 8,
      "outputs": []
    },
    {
      "cell_type": "code",
      "source": [
        "multi_these(5,6)"
      ],
      "metadata": {
        "colab": {
          "base_uri": "https://localhost:8080/"
        },
        "id": "_riVjtLlE0mu",
        "outputId": "ea137d2e-42d0-4668-e236-0eb4ebd6dd62"
      },
      "execution_count": 9,
      "outputs": [
        {
          "output_type": "execute_result",
          "data": {
            "text/plain": [
              "30"
            ]
          },
          "metadata": {},
          "execution_count": 9
        }
      ]
    },
    {
      "cell_type": "code",
      "source": [],
      "metadata": {
        "id": "q92zoNBJE46o"
      },
      "execution_count": null,
      "outputs": []
    }
  ]
}
